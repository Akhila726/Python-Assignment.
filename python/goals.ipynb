{
 "metadata": {
  "language_info": {
   "codemirror_mode": {
    "name": "ipython",
    "version": 3
   },
   "file_extension": ".py",
   "mimetype": "text/x-python",
   "name": "python",
   "nbconvert_exporter": "python",
   "pygments_lexer": "ipython3",
   "version": "3.9.0-final"
  },
  "orig_nbformat": 2,
  "kernelspec": {
   "name": "python3",
   "display_name": "Python 3.9.0 64-bit",
   "metadata": {
    "interpreter": {
     "hash": "e98a373a213e9fe4fdfb9bdd6eed4b84d2c621eaa4715204d95196e757a41e83"
    }
   }
  }
 },
 "nbformat": 4,
 "nbformat_minor": 2,
 "cells": [
  {
   "cell_type": "code",
   "execution_count": 6,
   "metadata": {},
   "outputs": [
    {
     "output_type": "stream",
     "name": "stdout",
     "text": [
      "[2011, 2013]\n"
     ]
    }
   ],
   "source": [
    "goals={2009:47,2010:53,2011:73,2012:60,2013:41,2014:58,2015:41,2016:54}\n",
    "key_list=list(goals.keys())\n",
    "val_list=list(goals.values())\n",
    "\n",
    "max_goals=max(val_list)\n",
    "min_goals=min(val_list)\n",
    "max_year=key_list[val_list.index(max_goals)]\n",
    "min_year=key_list[val_list.index(min_goals)]\n",
    "output=[max_year,min_year]\n",
    "print(output)"
   ]
  }
 ]
}