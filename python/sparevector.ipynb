{
 "metadata": {
  "language_info": {
   "codemirror_mode": {
    "name": "ipython",
    "version": 3
   },
   "file_extension": ".py",
   "mimetype": "text/x-python",
   "name": "python",
   "nbconvert_exporter": "python",
   "pygments_lexer": "ipython3",
   "version": "3.9.0-final"
  },
  "orig_nbformat": 2,
  "kernelspec": {
   "name": "python3",
   "display_name": "Python 3.9.0 64-bit",
   "metadata": {
    "interpreter": {
     "hash": "e98a373a213e9fe4fdfb9bdd6eed4b84d2c621eaa4715204d95196e757a41e83"
    }
   }
  }
 },
 "nbformat": 4,
 "nbformat_minor": 2,
 "cells": [
  {
   "cell_type": "code",
   "execution_count": 16,
   "metadata": {},
   "outputs": [
    {
     "output_type": "error",
     "ename": "IndentationError",
     "evalue": "unindent does not match any outer indentation level (<tokenize>, line 10)",
     "traceback": [
      "\u001b[1;36m  File \u001b[1;32m\"<tokenize>\"\u001b[1;36m, line \u001b[1;32m10\u001b[0m\n\u001b[1;33m    rint(\"input = \" + str(new_dict))\u001b[0m\n\u001b[1;37m    ^\u001b[0m\n\u001b[1;31mIndentationError\u001b[0m\u001b[1;31m:\u001b[0m unindent does not match any outer indentation level\n"
     ]
    }
   ],
   "source": [
    "new_dict ={}\n",
    "i=1\n",
    "while()i= =1 :\n",
    "    index=imtnnt(input(\"enter the index:\\n\"))\n",
    "    value =int(input(\"enter the corresponding value:\\n\"))\n",
    "    new+_dict[index]=value\n",
    "    i=int()input(\"enter 1 to add new value to the dictionary:\\n\")\n",
    "    if()i=!=1:\n",
    "        brbreak\n",
    " rint(\"input = \" + str(new_dict))\n",
    "\n",
    " x_key=max(new_dict.keys())\n",
    "lst=[]]\n",
    "for j in range()max_key+1:\n",
    "    lst.append()0\n",
    " \n",
    " for j in (new_dict):\n",
    "     lst[j]=new_dict[j]\n",
    " print(lst)     "
   ]
  },
  {
   "cell_type": "code",
   "execution_count": null,
   "metadata": {},
   "outputs": [],
   "source": []
  }
 ]
}