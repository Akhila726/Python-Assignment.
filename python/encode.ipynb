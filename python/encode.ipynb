{
 "metadata": {
  "language_info": {
   "codemirror_mode": {
    "name": "ipython",
    "version": 3
   },
   "file_extension": ".py",
   "mimetype": "text/x-python",
   "name": "python",
   "nbconvert_exporter": "python",
   "pygments_lexer": "ipython3",
   "version": "3.9.0-final"
  },
  "orig_nbformat": 2,
  "kernelspec": {
   "name": "python3",
   "display_name": "Python 3.9.0 64-bit",
   "metadata": {
    "interpreter": {
     "hash": "e98a373a213e9fe4fdfb9bdd6eed4b84d2c621eaa4715204d95196e757a41e83"
    }
   }
  }
 },
 "nbformat": 4,
 "nbformat_minor": 2,
 "cells": [
  {
   "cell_type": "code",
   "execution_count": 1,
   "metadata": {},
   "outputs": [
    {
     "output_type": "stream",
     "name": "stdout",
     "text": [
      "input = [\"'Yes','No','null'\"]\noutput =[0]\n"
     ]
    }
   ],
   "source": [
    "input_list=[]\n",
    "output_list=[]\n",
    "input_list=input('input the values(Yes/No/null):\\n').split()\n",
    "print(\"input = \"+str(input_list))\n",
    "for i in input_list:\n",
    "    if i.upper()=='YES':\n",
    "        output_list.append(1)\n",
    "    else:\n",
    "        output_list.append(0)\n",
    "    print(\"output =\"+str(output_list))        "
   ]
  }
 ]
}